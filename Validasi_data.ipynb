{
  "nbformat": 4,
  "nbformat_minor": 0,
  "metadata": {
    "colab": {
      "provenance": [],
      "authorship_tag": "ABX9TyN3iV06e9ExLueQceY+pn+/",
      "include_colab_link": true
    },
    "kernelspec": {
      "name": "python3",
      "display_name": "Python 3"
    },
    "language_info": {
      "name": "python"
    }
  },
  "cells": [
    {
      "cell_type": "markdown",
      "metadata": {
        "id": "view-in-github",
        "colab_type": "text"
      },
      "source": [
        "<a href=\"https://colab.research.google.com/github/FZB797/Individu-Data-Mining/blob/main/Validasi_data.ipynb\" target=\"_parent\"><img src=\"https://colab.research.google.com/assets/colab-badge.svg\" alt=\"Open In Colab\"/></a>"
      ]
    },
    {
      "cell_type": "markdown",
      "source": [
        "Membaca file hasil integrasi `integrasi_gaming.csv`."
      ],
      "metadata": {
        "id": "aNOAAjeZb8-q"
      }
    },
    {
      "cell_type": "code",
      "execution_count": 1,
      "metadata": {
        "colab": {
          "base_uri": "https://localhost:8080/"
        },
        "id": "uMzuJ--Nbmpz",
        "outputId": "75a360d5-1476-4d5a-f23e-7da34fc375bd"
      },
      "outputs": [
        {
          "output_type": "stream",
          "name": "stdout",
          "text": [
            "Validasi Data :\n"
          ]
        }
      ],
      "source": [
        "import pandas as pd\n",
        "\n",
        "file_path = \"integrasi_gaming.csv\"\n",
        "data = pd.read_csv(file_path)\n",
        "\n",
        "print(\"Validasi Data :\")"
      ]
    },
    {
      "cell_type": "markdown",
      "source": [
        "Validasi kolom `Year` → harus berupa angka."
      ],
      "metadata": {
        "id": "pHJDXqVBb_2R"
      }
    },
    {
      "cell_type": "code",
      "source": [
        "if \"Release Year\" in data.columns:\n",
        "    invalid_years = data[~data[\"Release Year\"].astype(str).str.isnumeric()]\n",
        "    if not invalid_years.empty:\n",
        "        print(\"\\nTerdapat data tahun tidak valid:\")\n",
        "        print(invalid_years)\n",
        "    else:\n",
        "        print(\"\\nSemua data tahun valid (angka)\")"
      ],
      "metadata": {
        "colab": {
          "base_uri": "https://localhost:8080/"
        },
        "id": "EvKcoJFZcD1X",
        "outputId": "b6216dd1-369a-4fec-fe5f-0fb24909d15d"
      },
      "execution_count": 6,
      "outputs": [
        {
          "output_type": "stream",
          "name": "stdout",
          "text": [
            "\n",
            "Semua data tahun valid (angka)\n"
          ]
        }
      ]
    },
    {
      "cell_type": "markdown",
      "source": [
        "Validasi kolom `Revenue` → tidak boleh negatif."
      ],
      "metadata": {
        "id": "1vgwbJ8ucHAN"
      }
    },
    {
      "cell_type": "code",
      "source": [
        "if \"Revenue (Millions $)\" in data.columns:\n",
        "    invalid_revenue = data[data[\"Revenue (Millions $)\"] < 0]\n",
        "    if not invalid_revenue.empty:\n",
        "        print(\"\\nTerdapat nilai Revenue negatif:\")\n",
        "        print(invalid_revenue)\n",
        "    else:\n",
        "        print(\"\\nSemua data Revenue valid (>= 0)\")"
      ],
      "metadata": {
        "colab": {
          "base_uri": "https://localhost:8080/"
        },
        "id": "-E9FAck6cJvr",
        "outputId": "918271bc-e49d-4481-c8c3-a03517534c72"
      },
      "execution_count": 8,
      "outputs": [
        {
          "output_type": "stream",
          "name": "stdout",
          "text": [
            "\n",
            "Semua data Revenue valid (>= 0)\n"
          ]
        }
      ]
    },
    {
      "cell_type": "markdown",
      "source": [
        "Validasi nilai kosong → tidak boleh ada nilai kosong."
      ],
      "metadata": {
        "id": "J6sdc_d2cMfE"
      }
    },
    {
      "cell_type": "code",
      "source": [
        "nilai_kosong = data.isnull().sum()\n",
        "if nilai_kosong.sum() > 0:\n",
        "    print(\"\\nTerdapat nilai kosong setelah integrasi:\\n\", nilai_kosong)\n",
        "else:\n",
        "    print(\"\\nTidak ada nilai kosong setelah integrasi\")"
      ],
      "metadata": {
        "colab": {
          "base_uri": "https://localhost:8080/"
        },
        "id": "USUJGS-McStq",
        "outputId": "8bbd330b-b263-4a9f-f4f4-c486c51dd7cd"
      },
      "execution_count": 4,
      "outputs": [
        {
          "output_type": "stream",
          "name": "stdout",
          "text": [
            "\n",
            "Tidak ada nilai kosong setelah integrasi\n"
          ]
        }
      ]
    }
  ]
}