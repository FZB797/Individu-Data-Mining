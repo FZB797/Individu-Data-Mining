{
  "nbformat": 4,
  "nbformat_minor": 0,
  "metadata": {
    "colab": {
      "provenance": [],
      "authorship_tag": "ABX9TyOoXOhfCX0jYZ/rWG9Gt9Np",
      "include_colab_link": true
    },
    "kernelspec": {
      "name": "python3",
      "display_name": "Python 3"
    },
    "language_info": {
      "name": "python"
    }
  },
  "cells": [
    {
      "cell_type": "markdown",
      "metadata": {
        "id": "view-in-github",
        "colab_type": "text"
      },
      "source": [
        "<a href=\"https://colab.research.google.com/github/FZB797/Individu-Data-Mining/blob/main/Analisis_data.ipynb\" target=\"_parent\"><img src=\"https://colab.research.google.com/assets/colab-badge.svg\" alt=\"Open In Colab\"/></a>"
      ]
    },
    {
      "cell_type": "markdown",
      "source": [
        "\n",
        "\n",
        "*   Membaca file hasil integrasi `integrasi_gaming.csv`.\n",
        "*   Menghitung statistik deskriptif dataset.\n",
        "\n",
        "\n"
      ],
      "metadata": {
        "id": "aRXN6GbNZu6y"
      }
    },
    {
      "cell_type": "code",
      "execution_count": 2,
      "metadata": {
        "colab": {
          "base_uri": "https://localhost:8080/"
        },
        "id": "81j8jlaAYVGU",
        "outputId": "9f0d2361-27cd-4f63-9781-04e53a167ea9"
      },
      "outputs": [
        {
          "output_type": "stream",
          "name": "stdout",
          "text": [
            "Analisis Data :\n",
            "\n",
            "Statistik Deskriptif\n",
            "                  Game Title   Genre     Platform  Release Year Developer  \\\n",
            "count                   1000    1000         1000   1000.000000      1000   \n",
            "unique                    50      10            6           NaN        10   \n",
            "top     Warzone Chronicles 1  Action  PlayStation           NaN      Sony   \n",
            "freq                      28     122          175           NaN       120   \n",
            "mean                     NaN     NaN          NaN   2012.074000       NaN   \n",
            "std                      NaN     NaN          NaN      7.031356       NaN   \n",
            "min                      NaN     NaN          NaN   2000.000000       NaN   \n",
            "25%                      NaN     NaN          NaN   2006.000000       NaN   \n",
            "50%                      NaN     NaN          NaN   2012.000000       NaN   \n",
            "75%                      NaN     NaN          NaN   2018.000000       NaN   \n",
            "max                      NaN     NaN          NaN   2024.000000       NaN   \n",
            "\n",
            "        Revenue (Millions $)  Players (Millions)  Peak Concurrent Players  \\\n",
            "count            1000.000000         1000.000000              1000.000000   \n",
            "unique                   NaN                 NaN                      NaN   \n",
            "top                      NaN                 NaN                      NaN   \n",
            "freq                     NaN                 NaN                      NaN   \n",
            "mean             2483.017800          103.499820                31.602150   \n",
            "std              1412.629451           58.869562                23.023375   \n",
            "min                11.430000            0.530000                 0.110000   \n",
            "25%              1276.190000           52.005000                12.967500   \n",
            "50%              2476.130000          107.040000                26.405000   \n",
            "75%              3677.797500          155.632500                46.020000   \n",
            "max              4999.790000          199.980000                96.620000   \n",
            "\n",
            "        Metacritic Score Esports Popularity Trending Status  \n",
            "count        1000.000000               1000            1000  \n",
            "unique               NaN                  2               3  \n",
            "top                  NaN                Yes          Stable  \n",
            "freq                 NaN                507             339  \n",
            "mean           74.990000                NaN             NaN  \n",
            "std            14.618536                NaN             NaN  \n",
            "min            50.000000                NaN             NaN  \n",
            "25%            62.000000                NaN             NaN  \n",
            "50%            76.000000                NaN             NaN  \n",
            "75%            87.000000                NaN             NaN  \n",
            "max           100.000000                NaN             NaN  \n"
          ]
        }
      ],
      "source": [
        "import pandas as pd\n",
        "\n",
        "file_path = \"integrasi_gaming.csv\"\n",
        "data = pd.read_csv(file_path)\n",
        "\n",
        "print(\"Analisis Data :\")\n",
        "\n",
        "print(\"\\nStatistik Deskriptif\")\n",
        "print(data.describe(include=\"all\"))"
      ]
    },
    {
      "cell_type": "markdown",
      "source": [
        " Analisis sederhana:\n",
        "*   Tahun dengan data terbanyak.\n",
        "*   Genre paling populer.\n",
        "*   Rata-rata, nilai maksimum, dan minimum Revenue.\n",
        "\n",
        "Menampilkan hasil analisis langsung (tanpa grafik)."
      ],
      "metadata": {
        "id": "9eRTqr2Nal9S"
      }
    },
    {
      "cell_type": "code",
      "source": [
        "if \"Year\" in data.columns:\n",
        "    print(\"\\n--- Tahun dengan data terbanyak ---\")\n",
        "    print(data[\"Year\"].value_counts().head())\n",
        "\n",
        "if \"Genre\" in data.columns:\n",
        "    print(\"\\n--- Genre terbanyak ---\")\n",
        "    print(data[\"Genre\"].value_counts().head())\n",
        "\n",
        "if \"Revenue\" in data.columns:\n",
        "    print(\"\\n--- Rata-rata revenue ---\")\n",
        "    print(\"Mean Revenue:\", data[\"Revenue\"].mean())\n",
        "    print(\"Max Revenue:\", data[\"Revenue\"].max())\n",
        "    print(\"Min Revenue:\", data[\"Revenue\"].min())"
      ],
      "metadata": {
        "colab": {
          "base_uri": "https://localhost:8080/"
        },
        "id": "RDVIX59ga53v",
        "outputId": "88305f79-907f-4763-ca15-668d60dc387e"
      },
      "execution_count": 3,
      "outputs": [
        {
          "output_type": "stream",
          "name": "stdout",
          "text": [
            "\n",
            "--- Genre terbanyak ---\n",
            "Genre\n",
            "Action      122\n",
            "Strategy    116\n",
            "Sports      116\n",
            "Fighting    103\n",
            "Shooter     100\n",
            "Name: count, dtype: int64\n"
          ]
        }
      ]
    }
  ]
}