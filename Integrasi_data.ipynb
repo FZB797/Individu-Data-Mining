{
  "nbformat": 4,
  "nbformat_minor": 0,
  "metadata": {
    "colab": {
      "provenance": [],
      "authorship_tag": "ABX9TyPh7Ccl7bS3BqcGtmom9z41",
      "include_colab_link": true
    },
    "kernelspec": {
      "name": "python3",
      "display_name": "Python 3"
    },
    "language_info": {
      "name": "python"
    }
  },
  "cells": [
    {
      "cell_type": "markdown",
      "metadata": {
        "id": "view-in-github",
        "colab_type": "text"
      },
      "source": [
        "<a href=\"https://colab.research.google.com/github/FZB797/Individu-Data-Mining/blob/main/Integrasi_data.ipynb\" target=\"_parent\"><img src=\"https://colab.research.google.com/assets/colab-badge.svg\" alt=\"Open In Colab\"/></a>"
      ]
    },
    {
      "cell_type": "markdown",
      "source": [
        "\n",
        "*   Upload file `gaming_industry_trends.csv` ke Colab.\n",
        "*   Membaca dataset menggunakan `pandas`.\n",
        "\n",
        "\n",
        "\n",
        "\n"
      ],
      "metadata": {
        "id": "1dOo5haHPciQ"
      }
    },
    {
      "cell_type": "code",
      "execution_count": null,
      "metadata": {
        "collapsed": true,
        "id": "YWnJCLsLJhJy"
      },
      "outputs": [],
      "source": [
        "import pandas as pd\n",
        "\n",
        "file_path = \"gaming_industry_trends.csv\"\n",
        "data = pd.read_csv(file_path)"
      ]
    },
    {
      "cell_type": "markdown",
      "source": [
        "Membersihkan data:\n",
        "*   Menghapus duplikat.\n",
        "*   Mengecek nilai kosong.\n",
        "*   Mengisi nilai kosong (Unknown untuk teks, 0 untuk angka).\n",
        "\n",
        "\n",
        "\n"
      ],
      "metadata": {
        "id": "B8XXfj6CQbQ1"
      }
    },
    {
      "cell_type": "code",
      "source": [
        "data = data.drop_duplicates()\n",
        "print(\"Jumlah data setelah hapus duplikat:\", data.shape)\n",
        "\n",
        "missing_values = data.isnull().sum()\n",
        "print(\"\\nJumlah nilai kosong per kolom:\\n\", missing_values)\n",
        "\n",
        "for col in data.columns:\n",
        "    if data[col].dtype == 'object':\n",
        "        data[col] = data[col].fillna(\"Unknown\")\n",
        "    else:\n",
        "        data[col] = data[col].fillna(0)\n",
        "\n",
        "print(\"\\nJumlah nilai kosong setelah dibersihkan:\\n\", data.isnull().sum())"
      ],
      "metadata": {
        "colab": {
          "base_uri": "https://localhost:8080/"
        },
        "collapsed": true,
        "id": "577-b5OtQzYr",
        "outputId": "54a3b2f4-140c-449a-8968-ce7f80604e43"
      },
      "execution_count": 12,
      "outputs": [
        {
          "output_type": "stream",
          "name": "stdout",
          "text": [
            "Jumlah data setelah hapus duplikat: (1000, 11)\n",
            "\n",
            "Jumlah nilai kosong per kolom:\n",
            " Game Title                 0\n",
            "Genre                      0\n",
            "Platform                   0\n",
            "Release Year               0\n",
            "Developer                  0\n",
            "Revenue (Millions $)       0\n",
            "Players (Millions)         0\n",
            "Peak Concurrent Players    0\n",
            "Metacritic Score           0\n",
            "Esports Popularity         0\n",
            "Trending Status            0\n",
            "dtype: int64\n",
            "\n",
            "Jumlah nilai kosong setelah dibersihkan:\n",
            " Game Title                 0\n",
            "Genre                      0\n",
            "Platform                   0\n",
            "Release Year               0\n",
            "Developer                  0\n",
            "Revenue (Millions $)       0\n",
            "Players (Millions)         0\n",
            "Peak Concurrent Players    0\n",
            "Metacritic Score           0\n",
            "Esports Popularity         0\n",
            "Trending Status            0\n",
            "dtype: int64\n"
          ]
        }
      ]
    },
    {
      "cell_type": "markdown",
      "source": [
        "Menyimpan hasil integrasi ke file baru `integrasi_gaming.csv`."
      ],
      "metadata": {
        "id": "JWUv1imGRC2-"
      }
    },
    {
      "cell_type": "code",
      "source": [
        "data.to_csv(\"integrasi_gaming.csv\", index=False)\n",
        "print(\"\\nData hasil integrasi sudah disimpan ke 'integrasi_gaming.csv'\")"
      ],
      "metadata": {
        "colab": {
          "base_uri": "https://localhost:8080/"
        },
        "collapsed": true,
        "id": "8PqjdeHCRGOe",
        "outputId": "78533528-363a-401d-cbf0-a2108522b541"
      },
      "execution_count": null,
      "outputs": [
        {
          "output_type": "stream",
          "name": "stdout",
          "text": [
            "\n",
            "Data hasil integrasi sudah disimpan ke 'integrasi_gaming.csv'\n"
          ]
        }
      ]
    }
  ]
}